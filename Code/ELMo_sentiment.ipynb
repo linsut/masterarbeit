{
 "cells": [
  {
   "cell_type": "markdown",
   "metadata": {},
   "source": [
    "# ELMo for Sentiment Analysis"
   ]
  },
  {
   "cell_type": "markdown",
   "metadata": {},
   "source": [
    "# Imports"
   ]
  },
  {
   "cell_type": "code",
   "execution_count": 9,
   "metadata": {
    "colab": {},
    "colab_type": "code",
    "id": "Cn_6DbUZI5_Z"
   },
   "outputs": [],
   "source": [
    "import numpy as np\n",
    "import pandas as pd\n",
    "import string\n",
    "import re\n",
    "import keras\n",
    "import nltk\n",
    "import time\n",
    "import tensorflow_hub as hub\n",
    "import tensorflow as tf\n",
    "import pickle\n",
    "\n",
    "from keras.optimizers import Adam\n",
    "from keras.models import Sequential\n",
    "from keras.layers import LSTM\n",
    "from keras.layers import Dense\n",
    "from keras.layers import Activation\n",
    "from tensorflow.keras import activations\n",
    "\n",
    "from sklearn import metrics\n",
    "from sklearn.linear_model import LogisticRegression\n",
    "\n",
    "from nltk.tokenize import TweetTokenizer\n",
    "from sklearn.model_selection import train_test_split"
   ]
  },
  {
   "cell_type": "markdown",
   "metadata": {
    "colab_type": "text",
    "id": "wk5cNX9taKbC"
   },
   "source": [
    "# Read files\n",
    "Only execute one of these"
   ]
  },
  {
   "cell_type": "markdown",
   "metadata": {
    "colab_type": "text",
    "id": "lg8XrSD6AtVH"
   },
   "source": [
    "## Apple Sentiment"
   ]
  },
  {
   "cell_type": "code",
   "execution_count": 10,
   "metadata": {
    "colab": {
     "base_uri": "https://localhost:8080/",
     "height": 127
    },
    "colab_type": "code",
    "executionInfo": {
     "elapsed": 712,
     "status": "ok",
     "timestamp": 1599337775844,
     "user": {
      "displayName": "Lin Chen",
      "photoUrl": "",
      "userId": "06593223489133265186"
     },
     "user_tz": -120
    },
    "id": "OutdLu7J1quj",
    "outputId": "27474569-1afe-41b6-8888-3f0466353813"
   },
   "outputs": [],
   "source": [
    "data = pd.read_csv(\"data/sentiment/datasets_652925_1154930_apple-twitter-sentiment-texts.csv\")"
   ]
  },
  {
   "cell_type": "markdown",
   "metadata": {
    "colab_type": "text",
    "id": "NGpILT-S1rDh"
   },
   "source": [
    "## US Airline Sentiment"
   ]
  },
  {
   "cell_type": "code",
   "execution_count": null,
   "metadata": {
    "colab": {},
    "colab_type": "code",
    "id": "5rrSG1FK1rXL"
   },
   "outputs": [],
   "source": [
    "data = pd.read_csv(\"data/sentiment/Tweets.csv\")\n",
    "\n",
    "data = data[['text', 'airline_sentiment']]\n",
    "data.rename(columns={'airline_sentiment' : 'sentiment'}, inplace=True)\n",
    "\n",
    "thisdict =\t{\n",
    "  \"negative\": -1,\n",
    "  \"neutral\": 0,\n",
    "  \"positive\": 1\n",
    "}\n",
    "data.sentiment = data.sentiment.apply(lambda x: thisdict[x])\n"
   ]
  },
  {
   "cell_type": "markdown",
   "metadata": {
    "colab_type": "text",
    "id": "YIQUKnlB1rnC"
   },
   "source": [
    "## T4SA"
   ]
  },
  {
   "cell_type": "code",
   "execution_count": 14,
   "metadata": {
    "colab": {},
    "colab_type": "code",
    "id": "WQIruC-y1r7J"
   },
   "outputs": [],
   "source": [
    "tweets = pd.read_csv(\"data/sentiment/raw_tweets_text.csv\")\n",
    "sentiments = pd.read_csv(\"data/sentiment/t4sa_text_sentiment.csv\",delimiter = \"\\t\")\n",
    "\n",
    "tweets.set_index(tweets.id, inplace=True)\n",
    "sentiments.set_index(sentiments.TWID, inplace=True)\n",
    "data=tweets.join(sentiments)\n",
    "data.dropna(inplace=True)\n",
    "data.drop(columns=['id', 'TWID'], inplace=True)\n",
    "data[\"sentiment\"] = data[['NEU', 'NEG', 'POS']].idxmax(axis=1)\n",
    "\n",
    "data = data[['text', 'sentiment']]\n",
    "\n",
    "thisdict =\t{\n",
    "  \"NEG\": -1,\n",
    "  \"NEU\": 0,\n",
    "  \"POS\": 1\n",
    "}\n",
    "data.sentiment = data.sentiment.apply(lambda x: thisdict[x])\n",
    "\n"
   ]
  },
  {
   "cell_type": "markdown",
   "metadata": {},
   "source": [
    "General Text Cleaning"
   ]
  },
  {
   "cell_type": "code",
   "execution_count": 15,
   "metadata": {},
   "outputs": [],
   "source": [
    "data.text = data.text.str.lower()\n",
    "\n",
    "data.text = data.text.apply(lambda x:re.sub(r'http\\S+', '', x))\n",
    "\n",
    "tokenizer = TweetTokenizer(strip_handles=True, reduce_len=True)\n",
    "data.text = data.text.apply(lambda x: tokenizer.tokenize(x))\n",
    "\n",
    "data.text = data.text.apply(lambda x: ' '.join(x))\n",
    "\n",
    "data.text = data.text.map(lambda x : x.translate(str.maketrans('', '', string.punctuation)))\n",
    "\n",
    "data.text = data.text.str.replace(\"[0-9]\", \" \")\n",
    "\n",
    "data.text = data.text.str.strip(string.whitespace)\n",
    "\n",
    "df_train, df_test = train_test_split(data, test_size=0.33, random_state=42)\n",
    "\n",
    "df_train = df_train.reset_index(drop=True)\n",
    "df_test = df_test.reset_index(drop=True)"
   ]
  },
  {
   "cell_type": "code",
   "execution_count": 16,
   "metadata": {
    "colab": {
     "base_uri": "https://localhost:8080/",
     "height": 424
    },
    "colab_type": "code",
    "executionInfo": {
     "elapsed": 618,
     "status": "ok",
     "timestamp": 1599334639725,
     "user": {
      "displayName": "Lin Chen",
      "photoUrl": "",
      "userId": "06593223489133265186"
     },
     "user_tz": -120
    },
    "id": "e9fGkomfxdL_",
    "outputId": "d9929d07-6d5e-43b5-f022-61c7d293b3ac"
   },
   "outputs": [
    {
     "data": {
      "text/html": [
       "<div>\n",
       "<style scoped>\n",
       "    .dataframe tbody tr th:only-of-type {\n",
       "        vertical-align: middle;\n",
       "    }\n",
       "\n",
       "    .dataframe tbody tr th {\n",
       "        vertical-align: top;\n",
       "    }\n",
       "\n",
       "    .dataframe thead th {\n",
       "        text-align: right;\n",
       "    }\n",
       "</style>\n",
       "<table border=\"1\" class=\"dataframe\">\n",
       "  <thead>\n",
       "    <tr style=\"text-align: right;\">\n",
       "      <th></th>\n",
       "      <th>text</th>\n",
       "      <th>sentiment</th>\n",
       "    </tr>\n",
       "  </thead>\n",
       "  <tbody>\n",
       "    <tr>\n",
       "      <th>0</th>\n",
       "      <td>for all who served and fought for our country ...</td>\n",
       "      <td>1</td>\n",
       "    </tr>\n",
       "    <tr>\n",
       "      <th>1</th>\n",
       "      <td>rt  florida teen only fourth person in last   ...</td>\n",
       "      <td>0</td>\n",
       "    </tr>\n",
       "    <tr>\n",
       "      <th>2</th>\n",
       "      <td>wireless digital lcd color baby monitor camera...</td>\n",
       "      <td>0</td>\n",
       "    </tr>\n",
       "    <tr>\n",
       "      <th>3</th>\n",
       "      <td>found another one and i hope this isnt coming ...</td>\n",
       "      <td>-1</td>\n",
       "    </tr>\n",
       "    <tr>\n",
       "      <th>4</th>\n",
       "      <td>happy thanksgiving im thankful you all cant draw</td>\n",
       "      <td>1</td>\n",
       "    </tr>\n",
       "    <tr>\n",
       "      <th>...</th>\n",
       "      <td>...</td>\n",
       "      <td>...</td>\n",
       "    </tr>\n",
       "    <tr>\n",
       "      <th>790566</th>\n",
       "      <td>rt  ok but can we talk about how kelsi from hi...</td>\n",
       "      <td>0</td>\n",
       "    </tr>\n",
       "    <tr>\n",
       "      <th>790567</th>\n",
       "      <td>rt  and this time with link   thanks   writing...</td>\n",
       "      <td>1</td>\n",
       "    </tr>\n",
       "    <tr>\n",
       "      <th>790568</th>\n",
       "      <td>living for music  focus on europe news   news ...</td>\n",
       "      <td>0</td>\n",
       "    </tr>\n",
       "    <tr>\n",
       "      <th>790569</th>\n",
       "      <td>world of final fantasy  cinematic anime openin...</td>\n",
       "      <td>0</td>\n",
       "    </tr>\n",
       "    <tr>\n",
       "      <th>790570</th>\n",
       "      <td>rt    hours agort to win  kylie leo lipkit 💄  ...</td>\n",
       "      <td>1</td>\n",
       "    </tr>\n",
       "  </tbody>\n",
       "</table>\n",
       "<p>790571 rows × 2 columns</p>\n",
       "</div>"
      ],
      "text/plain": [
       "                                                     text  sentiment\n",
       "0       for all who served and fought for our country ...          1\n",
       "1       rt  florida teen only fourth person in last   ...          0\n",
       "2       wireless digital lcd color baby monitor camera...          0\n",
       "3       found another one and i hope this isnt coming ...         -1\n",
       "4        happy thanksgiving im thankful you all cant draw          1\n",
       "...                                                   ...        ...\n",
       "790566  rt  ok but can we talk about how kelsi from hi...          0\n",
       "790567  rt  and this time with link   thanks   writing...          1\n",
       "790568  living for music  focus on europe news   news ...          0\n",
       "790569  world of final fantasy  cinematic anime openin...          0\n",
       "790570  rt    hours agort to win  kylie leo lipkit 💄  ...          1\n",
       "\n",
       "[790571 rows x 2 columns]"
      ]
     },
     "execution_count": 16,
     "metadata": {},
     "output_type": "execute_result"
    }
   ],
   "source": [
    "df_train"
   ]
  },
  {
   "cell_type": "markdown",
   "metadata": {
    "colab_type": "text",
    "id": "G-OqHUm5hJ-5"
   },
   "source": [
    "# Word Embeddings"
   ]
  },
  {
   "cell_type": "code",
   "execution_count": 17,
   "metadata": {
    "colab": {},
    "colab_type": "code",
    "id": "MAYxoB1DgG7a"
   },
   "outputs": [
    {
     "name": "stdout",
     "output_type": "stream",
     "text": [
      "WARNING:tensorflow:From /usr/local/lib/python3.6/dist-packages/tensorflow/python/ops/resource_variable_ops.py:1817: calling BaseResourceVariable.__init__ (from tensorflow.python.ops.resource_variable_ops) with constraint is deprecated and will be removed in a future version.\n",
      "Instructions for updating:\n",
      "If using Keras pass *_constraint arguments to layers.\n"
     ]
    },
    {
     "name": "stderr",
     "output_type": "stream",
     "text": [
      "WARNING:tensorflow:From /usr/local/lib/python3.6/dist-packages/tensorflow/python/ops/resource_variable_ops.py:1817: calling BaseResourceVariable.__init__ (from tensorflow.python.ops.resource_variable_ops) with constraint is deprecated and will be removed in a future version.\n",
      "Instructions for updating:\n",
      "If using Keras pass *_constraint arguments to layers.\n"
     ]
    }
   ],
   "source": [
    "elmo = hub.load(\"https://tfhub.dev/google/elmo/3\")"
   ]
  },
  {
   "cell_type": "markdown",
   "metadata": {
    "colab_type": "text",
    "id": "E3O4jg0xm3Mf"
   },
   "source": [
    "Only one vector for an input sequence"
   ]
  },
  {
   "cell_type": "code",
   "execution_count": 18,
   "metadata": {
    "colab": {},
    "colab_type": "code",
    "id": "_MuLXZhqml9u"
   },
   "outputs": [],
   "source": [
    "@tf.function\n",
    "def elmo_vectors(x):\n",
    "  embeddings = elmo.signatures[\"default\"](x)[\"elmo\"]\n",
    "\n",
    "  # return average of ELMo features\n",
    "  return tf.reduce_mean(embeddings,1)"
   ]
  },
  {
   "cell_type": "markdown",
   "metadata": {},
   "source": [
    "Create Batches"
   ]
  },
  {
   "cell_type": "code",
   "execution_count": 19,
   "metadata": {
    "colab": {},
    "colab_type": "code",
    "id": "Vww62FTgoq_N"
   },
   "outputs": [],
   "source": [
    "list_train = [df_train.text[i:i+100] for i in range(0,df_train.shape[0],100)]\n",
    "list_test = [df_test.text[i:i+100] for i in range(0,df_test.shape[0],100)]\n"
   ]
  },
  {
   "cell_type": "code",
   "execution_count": 20,
   "metadata": {
    "colab": {
     "base_uri": "https://localhost:8080/",
     "height": 35
    },
    "colab_type": "code",
    "executionInfo": {
     "elapsed": 106075,
     "status": "ok",
     "timestamp": 1598899250738,
     "user": {
      "displayName": "Lin Chen",
      "photoUrl": "",
      "userId": "06593223489133265186"
     },
     "user_tz": -120
    },
    "id": "XCGsY_5wonCe",
    "outputId": "b7c6c923-4333-4fcb-8210-35d4359983d1"
   },
   "outputs": [
    {
     "data": {
      "text/plain": [
       "7906"
      ]
     },
     "execution_count": 20,
     "metadata": {},
     "output_type": "execute_result"
    }
   ],
   "source": [
    "len(list_train)"
   ]
  },
  {
   "cell_type": "code",
   "execution_count": 21,
   "metadata": {
    "colab": {
     "base_uri": "https://localhost:8080/",
     "height": 35
    },
    "colab_type": "code",
    "executionInfo": {
     "elapsed": 9319,
     "status": "ok",
     "timestamp": 1599337792983,
     "user": {
      "displayName": "Lin Chen",
      "photoUrl": "",
      "userId": "06593223489133265186"
     },
     "user_tz": -120
    },
    "id": "V5OIb8FDnSZ6",
    "outputId": "6992b4d7-38dc-43fa-e297-478c05285a3b"
   },
   "outputs": [
    {
     "name": "stdout",
     "output_type": "stream",
     "text": [
      "Time elapsed:  34.75061337550481\n"
     ]
    }
   ],
   "source": [
    "start = time.time()\n",
    "elmo_train = [elmo_vectors(tf.constant(x.tolist())) for x in list_train]\n",
    "elmo_test = [elmo_vectors(tf.constant(x.tolist())) for x in list_test]\n",
    "\n",
    "print(\"Time elapsed: \", (time.time() - start) / 60)"
   ]
  },
  {
   "cell_type": "code",
   "execution_count": 22,
   "metadata": {
    "colab": {},
    "colab_type": "code",
    "id": "2d7ASEFaoorN"
   },
   "outputs": [],
   "source": [
    "elmo_train_new = np.concatenate(elmo_train, axis = 0)\n",
    "elmo_test_new = np.concatenate(elmo_test, axis = 0)"
   ]
  },
  {
   "cell_type": "code",
   "execution_count": 23,
   "metadata": {
    "colab": {
     "base_uri": "https://localhost:8080/",
     "height": 172
    },
    "colab_type": "code",
    "executionInfo": {
     "elapsed": 697,
     "status": "error",
     "timestamp": 1599337628375,
     "user": {
      "displayName": "Lin Chen",
      "photoUrl": "",
      "userId": "06593223489133265186"
     },
     "user_tz": -120
    },
    "id": "LtN9Ren3yMG7",
    "outputId": "848c0429-b453-4b99-b24a-226e03566de1"
   },
   "outputs": [
    {
     "data": {
      "text/plain": [
       "(790571, 1024)"
      ]
     },
     "execution_count": 23,
     "metadata": {},
     "output_type": "execute_result"
    }
   ],
   "source": [
    "elmo_train_new.shape"
   ]
  },
  {
   "cell_type": "markdown",
   "metadata": {
    "colab_type": "text",
    "id": "HPl2mKRpmuiW"
   },
   "source": [
    "Save Word vectors"
   ]
  },
  {
   "cell_type": "code",
   "execution_count": null,
   "metadata": {
    "colab": {},
    "colab_type": "code",
    "id": "Mc02u2MJmS_x"
   },
   "outputs": [],
   "source": [
    "# save elmo_train_new\n",
    "pickle_out = open(\"data/elmo_train_01092020_1.pickle\",\"wb\")\n",
    "pickle.dump(elmo_train_new[:len(elmo_train_new) // 2], pickle_out)\n",
    "pickle_out.close()\n",
    "pickle_out = open(\"data/elmo_train_01092020_2.pickle\",\"wb\")\n",
    "pickle.dump(elmo_train_new[len(elmo_train_new) // 2 + 1 :], pickle_out)\n",
    "pickle_out.close()\n",
    "\n",
    "# save elmo_test_new (too big, cut in smaller pieces)\n",
    "pickle_out = open(\"data/elmo_test_30082020.pickle\",\"wb\")\n",
    "pickle.dump(elmo_test_new, pickle_out)\n",
    "pickle_out.close()"
   ]
  },
  {
   "cell_type": "markdown",
   "metadata": {
    "colab_type": "text",
    "id": "B9QiolKymx1F"
   },
   "source": [
    "Load word vectors"
   ]
  },
  {
   "cell_type": "code",
   "execution_count": null,
   "metadata": {
    "colab": {},
    "colab_type": "code",
    "id": "iCGFEihimzub"
   },
   "outputs": [],
   "source": [
    "# load elmo_train_new\n",
    "pickle_in = open(\"data/elmo_train_29082020.pickle\", \"rb\")\n",
    "elmo_train_new = pickle.load(pickle_in)\n",
    "\n",
    "# load elmo_train_new\n",
    "pickle_in = open(\"data/elmo_test_29082020.pickle\", \"rb\")\n",
    "elmo_test_new = pickle.load(pickle_in)"
   ]
  },
  {
   "cell_type": "markdown",
   "metadata": {
    "colab_type": "text",
    "id": "Emm4528z0bUP"
   },
   "source": [
    "# Logistic Regression"
   ]
  },
  {
   "cell_type": "code",
   "execution_count": 25,
   "metadata": {
    "colab": {
     "base_uri": "https://localhost:8080/",
     "height": 109
    },
    "colab_type": "code",
    "executionInfo": {
     "elapsed": 1343,
     "status": "ok",
     "timestamp": 1599334829046,
     "user": {
      "displayName": "Lin Chen",
      "photoUrl": "",
      "userId": "06593223489133265186"
     },
     "user_tz": -120
    },
    "id": "5NYfuZIrz90F",
    "outputId": "a1827e90-52db-410c-e93c-397d7cc0fb0d"
   },
   "outputs": [
    {
     "data": {
      "text/plain": [
       "LogisticRegression(max_iter=1000)"
      ]
     },
     "execution_count": 25,
     "metadata": {},
     "output_type": "execute_result"
    }
   ],
   "source": [
    "lreg = LogisticRegression(max_iter=1000)\n",
    "lreg.fit(elmo_train_new, df_train.sentiment)"
   ]
  },
  {
   "cell_type": "markdown",
   "metadata": {},
   "source": [
    "## Evaluation"
   ]
  },
  {
   "cell_type": "code",
   "execution_count": 26,
   "metadata": {
    "colab": {
     "base_uri": "https://localhost:8080/",
     "height": 35
    },
    "colab_type": "code",
    "executionInfo": {
     "elapsed": 589,
     "status": "ok",
     "timestamp": 1599334868154,
     "user": {
      "displayName": "Lin Chen",
      "photoUrl": "",
      "userId": "06593223489133265186"
     },
     "user_tz": -120
    },
    "id": "AX0WgeGw0Ayw",
    "outputId": "0ece421d-e7a2-400e-e3e3-af52896055a5"
   },
   "outputs": [
    {
     "name": "stdout",
     "output_type": "stream",
     "text": [
      "Time elapsed:  0.02665832042694092\n"
     ]
    }
   ],
   "source": [
    "start = time.time()\n",
    "preds_test = lreg.predict(elmo_test_new)\n",
    "print(\"Time elapsed: \", (time.time() - start) / 60)"
   ]
  },
  {
   "cell_type": "code",
   "execution_count": 28,
   "metadata": {
    "colab": {
     "base_uri": "https://localhost:8080/",
     "height": 54
    },
    "colab_type": "code",
    "executionInfo": {
     "elapsed": 476,
     "status": "ok",
     "timestamp": 1599334895661,
     "user": {
      "displayName": "Lin Chen",
      "photoUrl": "",
      "userId": "06593223489133265186"
     },
     "user_tz": -120
    },
    "id": "WmXQsxiU0ivR",
    "outputId": "7337fda9-f195-439b-dd6b-8e9864f8cde6"
   },
   "outputs": [
    {
     "name": "stdout",
     "output_type": "stream",
     "text": [
      "[0.8549808  0.95028347 0.92538152]\n",
      "0.9283564380845741\n"
     ]
    }
   ],
   "source": [
    "\n",
    "print(metrics.f1_score(df_test.sentiment, preds_test, average=None))\n",
    "print(metrics.accuracy_score(df_test.sentiment, preds_test))"
   ]
  },
  {
   "cell_type": "markdown",
   "metadata": {
    "colab_type": "text",
    "id": "A_xNWqCp-CAl"
   },
   "source": [
    "# LSTM Modell"
   ]
  },
  {
   "cell_type": "code",
   "execution_count": 29,
   "metadata": {
    "colab": {
     "base_uri": "https://localhost:8080/",
     "height": 274
    },
    "colab_type": "code",
    "executionInfo": {
     "elapsed": 903,
     "status": "ok",
     "timestamp": 1599337976197,
     "user": {
      "displayName": "Lin Chen",
      "photoUrl": "",
      "userId": "06593223489133265186"
     },
     "user_tz": -120
    },
    "id": "YoX7fog8-EPi",
    "outputId": "b402cab3-c1fc-4fb3-ec46-8cd99be18d96"
   },
   "outputs": [
    {
     "name": "stdout",
     "output_type": "stream",
     "text": [
      "Model: \"sequential\"\n",
      "_________________________________________________________________\n",
      "Layer (type)                 Output Shape              Param #   \n",
      "=================================================================\n",
      "lstm (LSTM)                  (None, 512)               3147776   \n",
      "_________________________________________________________________\n",
      "dense (Dense)                (None, 3)                 1539      \n",
      "_________________________________________________________________\n",
      "activation (Activation)      (None, 3)                 0         \n",
      "=================================================================\n",
      "Total params: 3,149,315\n",
      "Trainable params: 3,149,315\n",
      "Non-trainable params: 0\n",
      "_________________________________________________________________\n"
     ]
    }
   ],
   "source": [
    "model1 = Sequential()\n",
    "model1.add(LSTM(512, input_shape=[1,1024]))\n",
    "model1.add(Dense(3))\n",
    "model1.add(Activation(activations.sigmoid))\n",
    "\n",
    "opt = Adam(lr=0.0002, beta_1=0.5)\n",
    "model1.compile(loss='binary_crossentropy', optimizer=opt, metrics=['accuracy'])\n",
    "\n",
    "model1.summary()"
   ]
  },
  {
   "cell_type": "code",
   "execution_count": 30,
   "metadata": {
    "colab": {},
    "colab_type": "code",
    "id": "pzZ8XwPP2Ol6"
   },
   "outputs": [],
   "source": [
    "train_text_shaped = elmo_train_new.reshape(-1, 1, 1024)\n",
    "test_text_shaped = elmo_test_new.reshape(-1, 1, 1024)\n",
    "\n",
    "train_encoded_sentiment = pd.get_dummies(df_train, columns=[\"sentiment\"]).drop(labels='text', axis=1)\n",
    "test_encoded_sentiment = pd.get_dummies(df_test, columns=[\"sentiment\"]).drop(labels='text', axis=1)\n"
   ]
  },
  {
   "cell_type": "code",
   "execution_count": 31,
   "metadata": {
    "colab": {
     "base_uri": "https://localhost:8080/",
     "height": 752
    },
    "colab_type": "code",
    "executionInfo": {
     "elapsed": 5939,
     "status": "ok",
     "timestamp": 1599337984632,
     "user": {
      "displayName": "Lin Chen",
      "photoUrl": "",
      "userId": "06593223489133265186"
     },
     "user_tz": -120
    },
    "id": "2pmmr5er7m-Y",
    "outputId": "0505ad04-73ce-4ddf-c0a4-b935f7f0ae23"
   },
   "outputs": [
    {
     "name": "stdout",
     "output_type": "stream",
     "text": [
      "Epoch 1/20\n",
      "24706/24706 [==============================] - 88s 4ms/step - loss: 0.1433 - accuracy: 0.9201 - val_loss: 0.1214 - val_accuracy: 0.9316\n",
      "Epoch 2/20\n",
      "24706/24706 [==============================] - 86s 4ms/step - loss: 0.1171 - accuracy: 0.9341 - val_loss: 0.1133 - val_accuracy: 0.9360\n",
      "Epoch 3/20\n",
      "24706/24706 [==============================] - 86s 3ms/step - loss: 0.1068 - accuracy: 0.9402 - val_loss: 0.1075 - val_accuracy: 0.9399\n",
      "Epoch 4/20\n",
      "24706/24706 [==============================] - 87s 4ms/step - loss: 0.0991 - accuracy: 0.9448 - val_loss: 0.0996 - val_accuracy: 0.9443\n",
      "Epoch 5/20\n",
      "24706/24706 [==============================] - 86s 3ms/step - loss: 0.0925 - accuracy: 0.9488 - val_loss: 0.0982 - val_accuracy: 0.9458\n",
      "Epoch 6/20\n",
      "24706/24706 [==============================] - 86s 4ms/step - loss: 0.0866 - accuracy: 0.9526 - val_loss: 0.0937 - val_accuracy: 0.9484\n",
      "Epoch 7/20\n",
      "24706/24706 [==============================] - 87s 4ms/step - loss: 0.0811 - accuracy: 0.9558 - val_loss: 0.0922 - val_accuracy: 0.9490\n",
      "Epoch 8/20\n",
      "24706/24706 [==============================] - 86s 3ms/step - loss: 0.0760 - accuracy: 0.9590 - val_loss: 0.0909 - val_accuracy: 0.9505\n",
      "Epoch 9/20\n",
      "24706/24706 [==============================] - 86s 3ms/step - loss: 0.0711 - accuracy: 0.9620 - val_loss: 0.0895 - val_accuracy: 0.9516\n",
      "Epoch 10/20\n",
      "24706/24706 [==============================] - 87s 4ms/step - loss: 0.0664 - accuracy: 0.9652 - val_loss: 0.0890 - val_accuracy: 0.9523\n",
      "Epoch 11/20\n",
      "24706/24706 [==============================] - 87s 4ms/step - loss: 0.0618 - accuracy: 0.9681 - val_loss: 0.0894 - val_accuracy: 0.9526\n",
      "Epoch 12/20\n",
      "24706/24706 [==============================] - 86s 3ms/step - loss: 0.0575 - accuracy: 0.9705 - val_loss: 0.0910 - val_accuracy: 0.9523\n",
      "Epoch 13/20\n",
      "24706/24706 [==============================] - 86s 3ms/step - loss: 0.0532 - accuracy: 0.9734 - val_loss: 0.0925 - val_accuracy: 0.9519\n",
      "Epoch 14/20\n",
      "24706/24706 [==============================] - 86s 3ms/step - loss: 0.0491 - accuracy: 0.9760 - val_loss: 0.0897 - val_accuracy: 0.9545\n",
      "Epoch 15/20\n",
      "24706/24706 [==============================] - 86s 3ms/step - loss: 0.0452 - accuracy: 0.9783 - val_loss: 0.0960 - val_accuracy: 0.9516\n",
      "Epoch 16/20\n",
      "24706/24706 [==============================] - 86s 4ms/step - loss: 0.0415 - accuracy: 0.9806 - val_loss: 0.0944 - val_accuracy: 0.9534\n",
      "Epoch 17/20\n",
      "24706/24706 [==============================] - 86s 4ms/step - loss: 0.0379 - accuracy: 0.9827 - val_loss: 0.0950 - val_accuracy: 0.9543\n",
      "Epoch 18/20\n",
      "24706/24706 [==============================] - 86s 3ms/step - loss: 0.0345 - accuracy: 0.9848 - val_loss: 0.0961 - val_accuracy: 0.9546\n",
      "Epoch 19/20\n",
      "24706/24706 [==============================] - 87s 4ms/step - loss: 0.0313 - accuracy: 0.9867 - val_loss: 0.0986 - val_accuracy: 0.9548\n",
      "Epoch 20/20\n",
      "24706/24706 [==============================] - 86s 3ms/step - loss: 0.0283 - accuracy: 0.9883 - val_loss: 0.1028 - val_accuracy: 0.9536\n"
     ]
    }
   ],
   "source": [
    "history = model1.fit(train_text_shaped,train_encoded_sentiment,epochs=5, validation_data=(test_text_shaped,test_encoded_sentiment))"
   ]
  },
  {
   "cell_type": "markdown",
   "metadata": {},
   "source": [
    "## Evaluation"
   ]
  },
  {
   "cell_type": "code",
   "execution_count": 32,
   "metadata": {
    "colab": {},
    "colab_type": "code",
    "id": "6ZKUe7Kv97yR"
   },
   "outputs": [],
   "source": [
    "y_pred1 = model.predict(test_text_shaped)\n",
    "y_pred = np.argmax(y_pred1, axis=1)"
   ]
  },
  {
   "cell_type": "code",
   "execution_count": 33,
   "metadata": {
    "colab": {
     "base_uri": "https://localhost:8080/",
     "height": 54
    },
    "colab_type": "code",
    "executionInfo": {
     "elapsed": 595,
     "status": "ok",
     "timestamp": 1599338783816,
     "user": {
      "displayName": "Lin Chen",
      "photoUrl": "",
      "userId": "06593223489133265186"
     },
     "user_tz": -120
    },
    "id": "W5pQfHtP_bdu",
    "outputId": "82856cd3-f1af-465a-9838-b88fe82716e2"
   },
   "outputs": [
    {
     "name": "stdout",
     "output_type": "stream",
     "text": [
      "[0.90360031 0.96852898 0.95263917]\n",
      "0.9536115833645791\n"
     ]
    }
   ],
   "source": [
    "from sklearn.metrics import f1_score, accuracy_score\n",
    "\n",
    "print(f1_score(df_test.sentiment.apply(lambda x: x + 1), y_pred, average=None))\n",
    "print(accuracy_score(df_test.sentiment.apply(lambda x: x + 1), y_pred))"
   ]
  },
  {
   "cell_type": "code",
   "execution_count": null,
   "metadata": {},
   "outputs": [],
   "source": []
  }
 ],
 "metadata": {
  "accelerator": "GPU",
  "colab": {
   "authorship_tag": "ABX9TyNJI6rhMdiCGqCV/wNdn8s7",
   "collapsed_sections": [],
   "mount_file_id": "1SEBoZuSa67hekKbO_g2eztuVIV9KrSKO",
   "name": "ELMo_sentiment",
   "provenance": [],
   "toc_visible": true
  },
  "kernelspec": {
   "display_name": "Python 3",
   "language": "python",
   "name": "python3"
  },
  "language_info": {
   "codemirror_mode": {
    "name": "ipython",
    "version": 3
   },
   "file_extension": ".py",
   "mimetype": "text/x-python",
   "name": "python",
   "nbconvert_exporter": "python",
   "pygments_lexer": "ipython3",
   "version": "3.6.9"
  }
 },
 "nbformat": 4,
 "nbformat_minor": 1
}
