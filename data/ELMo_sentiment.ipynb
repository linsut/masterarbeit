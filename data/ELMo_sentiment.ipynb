{
 "cells": [
  {
   "cell_type": "markdown",
   "metadata": {},
   "source": [
    "# ELMo for Sentiment Analysis"
   ]
  },
  {
   "cell_type": "markdown",
   "metadata": {},
   "source": [
    "# Imports"
   ]
  },
  {
   "cell_type": "code",
   "execution_count": null,
   "metadata": {
    "colab": {},
    "colab_type": "code",
    "id": "Cn_6DbUZI5_Z"
   },
   "outputs": [],
   "source": [
    "import numpy as np\n",
    "import pandas as pd\n",
    "import string\n",
    "import re\n",
    "import keras\n",
    "import nltk\n",
    "import time\n",
    "import tensorflow_hub as hub\n",
    "import tensorflow as tf\n",
    "import pickle\n",
    "\n",
    "from keras.optimizers import Adam\n",
    "from keras.models import Sequential\n",
    "from keras.layers import LSTM\n",
    "from keras.layers import Dense\n",
    "from keras.layers import Activation\n",
    "from tensorflow.keras import activations\n",
    "\n",
    "from sklearn import metrics\n",
    "from sklearn.linear_model import LogisticRegression"
   ]
  },
  {
   "cell_type": "markdown",
   "metadata": {
    "colab_type": "text",
    "id": "wk5cNX9taKbC"
   },
   "source": [
    "# Read files\n",
    "Only execute one of these"
   ]
  },
  {
   "cell_type": "markdown",
   "metadata": {
    "colab_type": "text",
    "id": "lg8XrSD6AtVH"
   },
   "source": [
    "## Apple Sentiment"
   ]
  },
  {
   "cell_type": "code",
   "execution_count": null,
   "metadata": {
    "colab": {
     "base_uri": "https://localhost:8080/",
     "height": 127
    },
    "colab_type": "code",
    "executionInfo": {
     "elapsed": 712,
     "status": "ok",
     "timestamp": 1599337775844,
     "user": {
      "displayName": "Lin Chen",
      "photoUrl": "",
      "userId": "06593223489133265186"
     },
     "user_tz": -120
    },
    "id": "OutdLu7J1quj",
    "outputId": "27474569-1afe-41b6-8888-3f0466353813"
   },
   "outputs": [
    {
     "name": "stderr",
     "output_type": "stream",
     "text": [
      "/usr/local/lib/python3.6/dist-packages/pandas/core/generic.py:5303: SettingWithCopyWarning: \n",
      "A value is trying to be set on a copy of a slice from a DataFrame.\n",
      "Try using .loc[row_indexer,col_indexer] = value instead\n",
      "\n",
      "See the caveats in the documentation: https://pandas.pydata.org/pandas-docs/stable/user_guide/indexing.html#returning-a-view-versus-a-copy\n",
      "  self[name] = value\n"
     ]
    }
   ],
   "source": [
    "data = pd.read_csv(\"data/sentiment/datasets_652925_1154930_apple-twitter-sentiment-texts.csv\")"
   ]
  },
  {
   "cell_type": "markdown",
   "metadata": {
    "colab_type": "text",
    "id": "NGpILT-S1rDh"
   },
   "source": [
    "## US Airline Sentiment"
   ]
  },
  {
   "cell_type": "code",
   "execution_count": null,
   "metadata": {
    "colab": {},
    "colab_type": "code",
    "id": "5rrSG1FK1rXL"
   },
   "outputs": [],
   "source": [
    "data = pd.read_csv(\"data/sentiment/Tweets.csv\")\n",
    "\n",
    "data = data[['text', 'airline_sentiment']]\n",
    "data.rename({'airline_sentiment' : 'sentiment'}, inplace=True)\n",
    "\n",
    "thisdict =\t{\n",
    "  \"negative\": -1,\n",
    "  \"neutral\": 0,\n",
    "  \"positive\": 1\n",
    "}\n",
    "data.sentiment = data.sentiment.apply(lambda x: thisdict[x])\n"
   ]
  },
  {
   "cell_type": "markdown",
   "metadata": {
    "colab_type": "text",
    "id": "YIQUKnlB1rnC"
   },
   "source": [
    "## T4SA"
   ]
  },
  {
   "cell_type": "code",
   "execution_count": null,
   "metadata": {
    "colab": {},
    "colab_type": "code",
    "id": "WQIruC-y1r7J"
   },
   "outputs": [],
   "source": [
    "tweets = pd.read_csv(\"data/sentiment/raw_tweets_text.csv\")\n",
    "sentiments = pd.read_csv(\".data/sentiment/t4sa_text_sentiment.csv\",delimiter = \"\\t\")\n",
    "\n",
    "tweets.set_index(tweets.id, inplace=True)\n",
    "sentiments.set_index(sentiments.TWID, inplace=True)\n",
    "data=tweets.join(sentiments)\n",
    "data.dropna(inplace=True)\n",
    "data.drop(columns=['id', 'TWID'], inplace=True)\n",
    "data[\"sentiment\"] = data[['NEU', 'NEG', 'POS']].idxmax(axis=1)\n",
    "\n",
    "data = data[['text', 'sentiment']]\n",
    "\n",
    "thisdict =\t{\n",
    "  \"NEG\": -1,\n",
    "  \"NEU\": 0,\n",
    "  \"POS\": 1\n",
    "}\n",
    "data.sentiment = data.sentiment.apply(lambda x: thisdict[x])\n",
    "\n"
   ]
  },
  {
   "cell_type": "markdown",
   "metadata": {},
   "source": [
    "General Text Cleaning"
   ]
  },
  {
   "cell_type": "code",
   "execution_count": null,
   "metadata": {},
   "outputs": [],
   "source": [
    "data.text = data.text.str.lower()\n",
    "\n",
    "data.text = data.text.apply(lambda x:re.sub(r'http\\S+', '', x))\n",
    "\n",
    "tokenizer = TweetTokenizer(strip_handles=True, reduce_len=True)\n",
    "data.text = data.text.apply(lambda x: tokenizer.tokenize(x))\n",
    "\n",
    "data.text = data.text.apply(lambda x: ' '.join(x))\n",
    "\n",
    "data.text = data.text.map(lambda x : x.translate(str.maketrans('', '', string.punctuation)))\n",
    "\n",
    "data.text = data.text.str.replace(\"[0-9]\", \" \")\n",
    "\n",
    "data.text = data.text.str.strip(string.whitespace)\n",
    "\n",
    "df_train, df_test = train_test_split(data, test_size=0.33, random_state=42)\n",
    "\n",
    "df_train = df_train.reset_index(drop=True)\n",
    "df_test = df_test.reset_index(drop=True)"
   ]
  },
  {
   "cell_type": "code",
   "execution_count": null,
   "metadata": {
    "colab": {
     "base_uri": "https://localhost:8080/",
     "height": 424
    },
    "colab_type": "code",
    "executionInfo": {
     "elapsed": 618,
     "status": "ok",
     "timestamp": 1599334639725,
     "user": {
      "displayName": "Lin Chen",
      "photoUrl": "",
      "userId": "06593223489133265186"
     },
     "user_tz": -120
    },
    "id": "e9fGkomfxdL_",
    "outputId": "d9929d07-6d5e-43b5-f022-61c7d293b3ac"
   },
   "outputs": [
    {
     "data": {
      "text/html": [
       "<div>\n",
       "<style scoped>\n",
       "    .dataframe tbody tr th:only-of-type {\n",
       "        vertical-align: middle;\n",
       "    }\n",
       "\n",
       "    .dataframe tbody tr th {\n",
       "        vertical-align: top;\n",
       "    }\n",
       "\n",
       "    .dataframe thead th {\n",
       "        text-align: right;\n",
       "    }\n",
       "</style>\n",
       "<table border=\"1\" class=\"dataframe\">\n",
       "  <thead>\n",
       "    <tr style=\"text-align: right;\">\n",
       "      <th></th>\n",
       "      <th>text</th>\n",
       "      <th>sentiment</th>\n",
       "    </tr>\n",
       "  </thead>\n",
       "  <tbody>\n",
       "    <tr>\n",
       "      <th>0</th>\n",
       "      <td>we need more products like  companies like    ...</td>\n",
       "      <td>0</td>\n",
       "    </tr>\n",
       "    <tr>\n",
       "      <th>1</th>\n",
       "      <td>legit thought that was you in this pic</td>\n",
       "      <td>0</td>\n",
       "    </tr>\n",
       "    <tr>\n",
       "      <th>2</th>\n",
       "      <td>aapl rt alex gauna flips his apple bit  sets s...</td>\n",
       "      <td>0</td>\n",
       "    </tr>\n",
       "    <tr>\n",
       "      <th>3</th>\n",
       "      <td>here are the main differences between apple ca...</td>\n",
       "      <td>0</td>\n",
       "    </tr>\n",
       "    <tr>\n",
       "      <th>4</th>\n",
       "      <td>trade  aapl free nightly updates are posted he...</td>\n",
       "      <td>0</td>\n",
       "    </tr>\n",
       "    <tr>\n",
       "      <th>...</th>\n",
       "      <td>...</td>\n",
       "      <td>...</td>\n",
       "    </tr>\n",
       "    <tr>\n",
       "      <th>1087</th>\n",
       "      <td>i kinda feel sorry for tho  goodjob with your ...</td>\n",
       "      <td>-1</td>\n",
       "    </tr>\n",
       "    <tr>\n",
       "      <th>1088</th>\n",
       "      <td>your ipad game just got shut way down  like   ...</td>\n",
       "      <td>-1</td>\n",
       "    </tr>\n",
       "    <tr>\n",
       "      <th>1089</th>\n",
       "      <td>been waiting   days so far for to approve the ...</td>\n",
       "      <td>-1</td>\n",
       "    </tr>\n",
       "    <tr>\n",
       "      <th>1090</th>\n",
       "      <td>my tmobile  apple cellular hell  iphone  iphon...</td>\n",
       "      <td>-1</td>\n",
       "    </tr>\n",
       "    <tr>\n",
       "      <th>1091</th>\n",
       "      <td>rt  why the fuck is there a  recently deleted ...</td>\n",
       "      <td>-1</td>\n",
       "    </tr>\n",
       "  </tbody>\n",
       "</table>\n",
       "<p>1092 rows × 2 columns</p>\n",
       "</div>"
      ],
      "text/plain": [
       "                                                   text  sentiment\n",
       "0     we need more products like  companies like    ...          0\n",
       "1                legit thought that was you in this pic          0\n",
       "2     aapl rt alex gauna flips his apple bit  sets s...          0\n",
       "3     here are the main differences between apple ca...          0\n",
       "4     trade  aapl free nightly updates are posted he...          0\n",
       "...                                                 ...        ...\n",
       "1087  i kinda feel sorry for tho  goodjob with your ...         -1\n",
       "1088  your ipad game just got shut way down  like   ...         -1\n",
       "1089  been waiting   days so far for to approve the ...         -1\n",
       "1090  my tmobile  apple cellular hell  iphone  iphon...         -1\n",
       "1091  rt  why the fuck is there a  recently deleted ...         -1\n",
       "\n",
       "[1092 rows x 2 columns]"
      ]
     },
     "execution_count": 6,
     "metadata": {
      "tags": []
     },
     "output_type": "execute_result"
    }
   ],
   "source": [
    "df_train"
   ]
  },
  {
   "cell_type": "markdown",
   "metadata": {
    "colab_type": "text",
    "id": "G-OqHUm5hJ-5"
   },
   "source": [
    "# Word Embeddings"
   ]
  },
  {
   "cell_type": "code",
   "execution_count": null,
   "metadata": {
    "colab": {},
    "colab_type": "code",
    "id": "MAYxoB1DgG7a"
   },
   "outputs": [],
   "source": [
    "elmo = hub.load(\"https://tfhub.dev/google/elmo/3\")"
   ]
  },
  {
   "cell_type": "markdown",
   "metadata": {
    "colab_type": "text",
    "id": "E3O4jg0xm3Mf"
   },
   "source": [
    "Only one vector for an input sequence"
   ]
  },
  {
   "cell_type": "code",
   "execution_count": null,
   "metadata": {
    "colab": {},
    "colab_type": "code",
    "id": "_MuLXZhqml9u"
   },
   "outputs": [],
   "source": [
    "@tf.function\n",
    "def elmo_vectors(x):\n",
    "  embeddings = elmo.signatures[\"default\"](x)[\"elmo\"]\n",
    "\n",
    "  # return average of ELMo features\n",
    "  return tf.reduce_mean(embeddings,1)"
   ]
  },
  {
   "cell_type": "markdown",
   "metadata": {},
   "source": [
    "Create Batches"
   ]
  },
  {
   "cell_type": "code",
   "execution_count": null,
   "metadata": {
    "colab": {},
    "colab_type": "code",
    "id": "Vww62FTgoq_N"
   },
   "outputs": [],
   "source": [
    "list_train = [df_train.text[i:i+100] for i in range(0,df_train.shape[0],100)]\n",
    "list_test = [df_test.text[i:i+100] for i in range(0,df_test.shape[0],100)]\n"
   ]
  },
  {
   "cell_type": "code",
   "execution_count": null,
   "metadata": {
    "colab": {
     "base_uri": "https://localhost:8080/",
     "height": 35
    },
    "colab_type": "code",
    "executionInfo": {
     "elapsed": 106075,
     "status": "ok",
     "timestamp": 1598899250738,
     "user": {
      "displayName": "Lin Chen",
      "photoUrl": "",
      "userId": "06593223489133265186"
     },
     "user_tz": -120
    },
    "id": "XCGsY_5wonCe",
    "outputId": "b7c6c923-4333-4fcb-8210-35d4359983d1"
   },
   "outputs": [
    {
     "data": {
      "text/plain": [
       "10720"
      ]
     },
     "execution_count": 10,
     "metadata": {
      "tags": []
     },
     "output_type": "execute_result"
    }
   ],
   "source": [
    "len(list_train)"
   ]
  },
  {
   "cell_type": "code",
   "execution_count": null,
   "metadata": {
    "colab": {
     "base_uri": "https://localhost:8080/",
     "height": 35
    },
    "colab_type": "code",
    "executionInfo": {
     "elapsed": 9319,
     "status": "ok",
     "timestamp": 1599337792983,
     "user": {
      "displayName": "Lin Chen",
      "photoUrl": "",
      "userId": "06593223489133265186"
     },
     "user_tz": -120
    },
    "id": "V5OIb8FDnSZ6",
    "outputId": "6992b4d7-38dc-43fa-e297-478c05285a3b"
   },
   "outputs": [
    {
     "name": "stdout",
     "output_type": "stream",
     "text": [
      "Time elapsed:  0.1433647592862447\n"
     ]
    }
   ],
   "source": [
    "start = time.time()\n",
    "elmo_train = [elmo_vectors(tf.constant(x.tolist())) for x in list_train]\n",
    "elmo_test = [elmo_vectors(tf.constant(x.tolist())) for x in list_test]\n",
    "\n",
    "print(\"Time elapsed: \", (time.time() - start) / 60)"
   ]
  },
  {
   "cell_type": "code",
   "execution_count": null,
   "metadata": {
    "colab": {},
    "colab_type": "code",
    "id": "2d7ASEFaoorN"
   },
   "outputs": [],
   "source": [
    "elmo_train_new = np.concatenate(elmo_train, axis = 0)\n",
    "elmo_test_new = np.concatenate(elmo_test, axis = 0)"
   ]
  },
  {
   "cell_type": "code",
   "execution_count": null,
   "metadata": {
    "colab": {
     "base_uri": "https://localhost:8080/",
     "height": 172
    },
    "colab_type": "code",
    "executionInfo": {
     "elapsed": 697,
     "status": "error",
     "timestamp": 1599337628375,
     "user": {
      "displayName": "Lin Chen",
      "photoUrl": "",
      "userId": "06593223489133265186"
     },
     "user_tz": -120
    },
    "id": "LtN9Ren3yMG7",
    "outputId": "848c0429-b453-4b99-b24a-226e03566de1"
   },
   "outputs": [
    {
     "ename": "NameError",
     "evalue": "ignored",
     "output_type": "error",
     "traceback": [
      "\u001b[0;31m---------------------------------------------------------------------------\u001b[0m",
      "\u001b[0;31mNameError\u001b[0m                                 Traceback (most recent call last)",
      "\u001b[0;32m<ipython-input-8-f6f614574215>\u001b[0m in \u001b[0;36m<module>\u001b[0;34m()\u001b[0m\n\u001b[0;32m----> 1\u001b[0;31m \u001b[0melmo_train_new\u001b[0m\u001b[0;34m.\u001b[0m\u001b[0mshape\u001b[0m\u001b[0;34m,\u001b[0m \u001b[0mX_train\u001b[0m\u001b[0;34m.\u001b[0m\u001b[0mshape\u001b[0m\u001b[0;34m\u001b[0m\u001b[0;34m\u001b[0m\u001b[0m\n\u001b[0m",
      "\u001b[0;31mNameError\u001b[0m: name 'elmo_train_new' is not defined"
     ]
    }
   ],
   "source": [
    "elmo_train_new.shape"
   ]
  },
  {
   "cell_type": "markdown",
   "metadata": {
    "colab_type": "text",
    "id": "HPl2mKRpmuiW"
   },
   "source": [
    "Save Word vectors"
   ]
  },
  {
   "cell_type": "code",
   "execution_count": null,
   "metadata": {
    "colab": {},
    "colab_type": "code",
    "id": "Mc02u2MJmS_x"
   },
   "outputs": [],
   "source": [
    "# save elmo_train_new\n",
    "pickle_out = open(\"data/elmo_train_01092020_1.pickle\",\"wb\")\n",
    "pickle.dump(elmo_train_new[:len(elmo_train_new) // 2], pickle_out)\n",
    "pickle_out.close()\n",
    "pickle_out = open(\"data/elmo_train_01092020_2.pickle\",\"wb\")\n",
    "pickle.dump(elmo_train_new[len(elmo_train_new) // 2 + 1 :], pickle_out)\n",
    "pickle_out.close()\n",
    "\n",
    "# save elmo_test_new (too big, cut in smaller pieces)\n",
    "pickle_out = open(\"data/elmo_test_30082020.pickle\",\"wb\")\n",
    "pickle.dump(elmo_test_new, pickle_out)\n",
    "pickle_out.close()"
   ]
  },
  {
   "cell_type": "markdown",
   "metadata": {
    "colab_type": "text",
    "id": "B9QiolKymx1F"
   },
   "source": [
    "Load word vectors"
   ]
  },
  {
   "cell_type": "code",
   "execution_count": null,
   "metadata": {
    "colab": {},
    "colab_type": "code",
    "id": "iCGFEihimzub"
   },
   "outputs": [],
   "source": [
    "# load elmo_train_new\n",
    "pickle_in = open(\"data/elmo_train_29082020.pickle\", \"rb\")\n",
    "elmo_train_new = pickle.load(pickle_in)\n",
    "\n",
    "# load elmo_train_new\n",
    "pickle_in = open(\"data/elmo_test_29082020.pickle\", \"rb\")\n",
    "elmo_test_new = pickle.load(pickle_in)"
   ]
  },
  {
   "cell_type": "markdown",
   "metadata": {
    "colab_type": "text",
    "id": "Emm4528z0bUP"
   },
   "source": [
    "# Logistic Regression"
   ]
  },
  {
   "cell_type": "code",
   "execution_count": null,
   "metadata": {
    "colab": {
     "base_uri": "https://localhost:8080/",
     "height": 109
    },
    "colab_type": "code",
    "executionInfo": {
     "elapsed": 1343,
     "status": "ok",
     "timestamp": 1599334829046,
     "user": {
      "displayName": "Lin Chen",
      "photoUrl": "",
      "userId": "06593223489133265186"
     },
     "user_tz": -120
    },
    "id": "5NYfuZIrz90F",
    "outputId": "a1827e90-52db-410c-e93c-397d7cc0fb0d"
   },
   "outputs": [
    {
     "data": {
      "text/plain": [
       "LogisticRegression(C=1.0, class_weight=None, dual=False, fit_intercept=True,\n",
       "                   intercept_scaling=1, l1_ratio=None, max_iter=1000,\n",
       "                   multi_class='auto', n_jobs=None, penalty='l2',\n",
       "                   random_state=None, solver='lbfgs', tol=0.0001, verbose=0,\n",
       "                   warm_start=False)"
      ]
     },
     "execution_count": 13,
     "metadata": {
      "tags": []
     },
     "output_type": "execute_result"
    }
   ],
   "source": [
    "lreg = LogisticRegression(max_iter=1000)\n",
    "lreg.fit(elmo_train_new, df_test.sentiment)"
   ]
  },
  {
   "cell_type": "markdown",
   "metadata": {},
   "source": [
    "## Evaluation"
   ]
  },
  {
   "cell_type": "code",
   "execution_count": null,
   "metadata": {
    "colab": {
     "base_uri": "https://localhost:8080/",
     "height": 35
    },
    "colab_type": "code",
    "executionInfo": {
     "elapsed": 589,
     "status": "ok",
     "timestamp": 1599334868154,
     "user": {
      "displayName": "Lin Chen",
      "photoUrl": "",
      "userId": "06593223489133265186"
     },
     "user_tz": -120
    },
    "id": "AX0WgeGw0Ayw",
    "outputId": "0ece421d-e7a2-400e-e3e3-af52896055a5"
   },
   "outputs": [
    {
     "name": "stdout",
     "output_type": "stream",
     "text": [
      "Time elapsed:  0.00015242894490559897\n"
     ]
    }
   ],
   "source": [
    "start = time.time()\n",
    "preds_test = lreg.predict(elmo_test_new)\n",
    "print(\"Time elapsed: \", (time.time() - start) / 60)"
   ]
  },
  {
   "cell_type": "code",
   "execution_count": null,
   "metadata": {
    "colab": {
     "base_uri": "https://localhost:8080/",
     "height": 54
    },
    "colab_type": "code",
    "executionInfo": {
     "elapsed": 476,
     "status": "ok",
     "timestamp": 1599334895661,
     "user": {
      "displayName": "Lin Chen",
      "photoUrl": "",
      "userId": "06593223489133265186"
     },
     "user_tz": -120
    },
    "id": "WmXQsxiU0ivR",
    "outputId": "7337fda9-f195-439b-dd6b-8e9864f8cde6"
   },
   "outputs": [
    {
     "name": "stdout",
     "output_type": "stream",
     "text": [
      "[0.85651214 0.86225403 0.5       ]\n",
      "0.8382899628252788\n"
     ]
    }
   ],
   "source": [
    "\n",
    "print(metrics.f1_score(test_sentiment_column, preds_test, average=None))\n",
    "print(metrics.accuracy_score(test_sentiment_column, preds_test))"
   ]
  },
  {
   "cell_type": "markdown",
   "metadata": {
    "colab_type": "text",
    "id": "A_xNWqCp-CAl"
   },
   "source": [
    "# LSTM Modell"
   ]
  },
  {
   "cell_type": "code",
   "execution_count": null,
   "metadata": {
    "colab": {
     "base_uri": "https://localhost:8080/",
     "height": 274
    },
    "colab_type": "code",
    "executionInfo": {
     "elapsed": 903,
     "status": "ok",
     "timestamp": 1599337976197,
     "user": {
      "displayName": "Lin Chen",
      "photoUrl": "",
      "userId": "06593223489133265186"
     },
     "user_tz": -120
    },
    "id": "YoX7fog8-EPi",
    "outputId": "b402cab3-c1fc-4fb3-ec46-8cd99be18d96"
   },
   "outputs": [
    {
     "name": "stdout",
     "output_type": "stream",
     "text": [
      "Model: \"sequential_1\"\n",
      "_________________________________________________________________\n",
      "Layer (type)                 Output Shape              Param #   \n",
      "=================================================================\n",
      "lstm_1 (LSTM)                (None, 512)               3147776   \n",
      "_________________________________________________________________\n",
      "dense_1 (Dense)              (None, 3)                 1539      \n",
      "_________________________________________________________________\n",
      "activation_1 (Activation)    (None, 3)                 0         \n",
      "=================================================================\n",
      "Total params: 3,149,315\n",
      "Trainable params: 3,149,315\n",
      "Non-trainable params: 0\n",
      "_________________________________________________________________\n"
     ]
    }
   ],
   "source": [
    "model = Sequential()\n",
    "model.add(LSTM(512, input_shape=[1,1024]))\n",
    "model.add(Dense(3))\n",
    "model.add(Activation(activations.sigmoid))\n",
    "\n",
    "opt = Adam(lr=0.0002, beta_1=0.5)\n",
    "model.compile(loss='binary_crossentropy', optimizer=opt, metrics=['accuracy'])\n",
    "\n",
    "model.summary()"
   ]
  },
  {
   "cell_type": "code",
   "execution_count": null,
   "metadata": {
    "colab": {},
    "colab_type": "code",
    "id": "pzZ8XwPP2Ol6"
   },
   "outputs": [],
   "source": [
    "train_text_shaped = elmo_train_new.reshape(-1, 1, 1024)\n",
    "test_text_shaped = elmo_test_new.reshape(-1, 1, 1024)\n",
    "\n",
    "train_encoded_sentiment = pd.get_dummies(df_train, columns=[\"sentiment\"]).drop(labels='text', axis=1)\n",
    "test_encoded_sentiment = pd.get_dummies(df_test, columns=[\"sentiment\"]).drop(labels='text', axis=1)\n"
   ]
  },
  {
   "cell_type": "code",
   "execution_count": null,
   "metadata": {
    "colab": {
     "base_uri": "https://localhost:8080/",
     "height": 752
    },
    "colab_type": "code",
    "executionInfo": {
     "elapsed": 5939,
     "status": "ok",
     "timestamp": 1599337984632,
     "user": {
      "displayName": "Lin Chen",
      "photoUrl": "",
      "userId": "06593223489133265186"
     },
     "user_tz": -120
    },
    "id": "2pmmr5er7m-Y",
    "outputId": "0505ad04-73ce-4ddf-c0a4-b935f7f0ae23"
   },
   "outputs": [
    {
     "name": "stdout",
     "output_type": "stream",
     "text": [
      "Epoch 1/20\n",
      "35/35 [==============================] - 1s 15ms/step - loss: 0.5589 - accuracy: 0.7033 - val_loss: 0.4625 - val_accuracy: 0.7584\n",
      "Epoch 2/20\n",
      "35/35 [==============================] - 0s 6ms/step - loss: 0.4332 - accuracy: 0.7445 - val_loss: 0.4018 - val_accuracy: 0.7528\n",
      "Epoch 3/20\n",
      "35/35 [==============================] - 0s 6ms/step - loss: 0.3900 - accuracy: 0.7601 - val_loss: 0.3744 - val_accuracy: 0.7639\n",
      "Epoch 4/20\n",
      "35/35 [==============================] - 0s 6ms/step - loss: 0.3647 - accuracy: 0.7683 - val_loss: 0.3599 - val_accuracy: 0.7658\n",
      "Epoch 5/20\n",
      "35/35 [==============================] - 0s 6ms/step - loss: 0.3401 - accuracy: 0.7839 - val_loss: 0.3442 - val_accuracy: 0.7881\n",
      "Epoch 6/20\n",
      "35/35 [==============================] - 0s 5ms/step - loss: 0.3222 - accuracy: 0.8004 - val_loss: 0.3351 - val_accuracy: 0.7955\n",
      "Epoch 7/20\n",
      "35/35 [==============================] - 0s 5ms/step - loss: 0.3050 - accuracy: 0.8187 - val_loss: 0.3260 - val_accuracy: 0.8141\n",
      "Epoch 8/20\n",
      "35/35 [==============================] - 0s 5ms/step - loss: 0.2881 - accuracy: 0.8379 - val_loss: 0.3204 - val_accuracy: 0.8141\n",
      "Epoch 9/20\n",
      "35/35 [==============================] - 0s 5ms/step - loss: 0.2739 - accuracy: 0.8443 - val_loss: 0.3117 - val_accuracy: 0.8141\n",
      "Epoch 10/20\n",
      "35/35 [==============================] - 0s 5ms/step - loss: 0.2622 - accuracy: 0.8462 - val_loss: 0.3055 - val_accuracy: 0.8327\n",
      "Epoch 11/20\n",
      "35/35 [==============================] - 0s 5ms/step - loss: 0.2517 - accuracy: 0.8599 - val_loss: 0.3074 - val_accuracy: 0.8160\n",
      "Epoch 12/20\n",
      "35/35 [==============================] - 0s 5ms/step - loss: 0.2395 - accuracy: 0.8672 - val_loss: 0.3028 - val_accuracy: 0.8253\n",
      "Epoch 13/20\n",
      "35/35 [==============================] - 0s 5ms/step - loss: 0.2306 - accuracy: 0.8736 - val_loss: 0.3004 - val_accuracy: 0.8327\n",
      "Epoch 14/20\n",
      "35/35 [==============================] - 0s 5ms/step - loss: 0.2217 - accuracy: 0.8800 - val_loss: 0.2948 - val_accuracy: 0.8309\n",
      "Epoch 15/20\n",
      "35/35 [==============================] - 0s 5ms/step - loss: 0.2130 - accuracy: 0.8883 - val_loss: 0.2986 - val_accuracy: 0.8271\n",
      "Epoch 16/20\n",
      "35/35 [==============================] - 0s 5ms/step - loss: 0.2059 - accuracy: 0.8892 - val_loss: 0.2958 - val_accuracy: 0.8234\n",
      "Epoch 17/20\n",
      "35/35 [==============================] - 0s 5ms/step - loss: 0.1977 - accuracy: 0.8974 - val_loss: 0.2953 - val_accuracy: 0.8216\n",
      "Epoch 18/20\n",
      "35/35 [==============================] - 0s 6ms/step - loss: 0.1903 - accuracy: 0.9029 - val_loss: 0.3039 - val_accuracy: 0.8253\n",
      "Epoch 19/20\n",
      "35/35 [==============================] - 0s 6ms/step - loss: 0.1850 - accuracy: 0.9057 - val_loss: 0.2905 - val_accuracy: 0.8253\n",
      "Epoch 20/20\n",
      "35/35 [==============================] - 0s 6ms/step - loss: 0.1776 - accuracy: 0.9112 - val_loss: 0.2996 - val_accuracy: 0.8197\n"
     ]
    }
   ],
   "source": [
    "history = model.fit(train_text_shaped,train_encoded_sentiment,epochs=20, validation_data=(test_text_shaped,test_encoded_sentiment))"
   ]
  },
  {
   "cell_type": "markdown",
   "metadata": {},
   "source": [
    "## Evaluation"
   ]
  },
  {
   "cell_type": "code",
   "execution_count": null,
   "metadata": {
    "colab": {},
    "colab_type": "code",
    "id": "6ZKUe7Kv97yR"
   },
   "outputs": [],
   "source": [
    "y_pred1 = model.predict(test_text_shaped)\n",
    "y_pred = np.argmax(y_pred1, axis=1)"
   ]
  },
  {
   "cell_type": "code",
   "execution_count": null,
   "metadata": {
    "colab": {
     "base_uri": "https://localhost:8080/",
     "height": 54
    },
    "colab_type": "code",
    "executionInfo": {
     "elapsed": 595,
     "status": "ok",
     "timestamp": 1599338783816,
     "user": {
      "displayName": "Lin Chen",
      "photoUrl": "",
      "userId": "06593223489133265186"
     },
     "user_tz": -120
    },
    "id": "W5pQfHtP_bdu",
    "outputId": "82856cd3-f1af-465a-9838-b88fe82716e2"
   },
   "outputs": [
    {
     "name": "stdout",
     "output_type": "stream",
     "text": [
      "[0.84322034 0.84501845 0.41935484]\n",
      "0.8197026022304833\n"
     ]
    }
   ],
   "source": [
    "from sklearn.metrics import f1_score, accuracy_score\n",
    "\n",
    "print(f1_score(df_test.sentiment.apply(lambda x: x + 1), y_pred, average=None))\n",
    "print(accuracy_score(df_test.sentiment.apply(lambda x: x + 1), y_pred))"
   ]
  }
 ],
 "metadata": {
  "accelerator": "GPU",
  "colab": {
   "authorship_tag": "ABX9TyNJI6rhMdiCGqCV/wNdn8s7",
   "collapsed_sections": [],
   "mount_file_id": "1SEBoZuSa67hekKbO_g2eztuVIV9KrSKO",
   "name": "ELMo_sentiment",
   "provenance": [],
   "toc_visible": true
  },
  "kernelspec": {
   "display_name": "Python 3",
   "language": "python",
   "name": "python3"
  },
  "language_info": {
   "codemirror_mode": {
    "name": "ipython",
    "version": 3
   },
   "file_extension": ".py",
   "mimetype": "text/x-python",
   "name": "python",
   "nbconvert_exporter": "python",
   "pygments_lexer": "ipython3",
   "version": "3.6.10"
  }
 },
 "nbformat": 4,
 "nbformat_minor": 1
}
